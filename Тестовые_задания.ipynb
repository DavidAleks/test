{
  "nbformat": 4,
  "nbformat_minor": 0,
  "metadata": {
    "colab": {
      "name": "Тестовые задания.ipynb",
      "provenance": [],
      "collapsed_sections": [],
      "toc_visible": true
    },
    "kernelspec": {
      "name": "python3",
      "display_name": "Python 3"
    }
  },
  "cells": [
    {
      "cell_type": "markdown",
      "metadata": {
        "id": "7b9dePu_PtiK",
        "colab_type": "text"
      },
      "source": [
        "# ЗАДАЧА №1"
      ]
    },
    {
      "cell_type": "markdown",
      "metadata": {
        "id": "mqy1cwKakUCd",
        "colab_type": "text"
      },
      "source": [
        "Ввод произвольного числа можно произвести либо через считывание листа из файла..."
      ]
    },
    {
      "cell_type": "code",
      "metadata": {
        "id": "qR5YzRmVjjYD",
        "colab_type": "code",
        "outputId": "d406ac07-4950-47d6-81ab-91050ad334b3",
        "colab": {
          "base_uri": "https://localhost:8080/",
          "height": 34
        }
      },
      "source": [
        "import pandas as pd\n",
        "n=pd.read_excel('input.xlsx',sheet_name='1')\n",
        "n=int(n.max().max())\n",
        "n "
      ],
      "execution_count": 0,
      "outputs": [
        {
          "output_type": "execute_result",
          "data": {
            "text/plain": [
              "6"
            ]
          },
          "metadata": {
            "tags": []
          },
          "execution_count": 13
        }
      ]
    },
    {
      "cell_type": "markdown",
      "metadata": {
        "id": "kRwomuY6kavr",
        "colab_type": "text"
      },
      "source": [
        "...либо вручную, запустив блок ниже,вбив число и нажав \"Enter\""
      ]
    },
    {
      "cell_type": "code",
      "metadata": {
        "id": "XXK6fYYYkNcG",
        "colab_type": "code",
        "outputId": "69cbb1ba-0111-48b9-86bf-badc49c11436",
        "colab": {
          "base_uri": "https://localhost:8080/",
          "height": 34
        }
      },
      "source": [
        "n=int(input())"
      ],
      "execution_count": 0,
      "outputs": [
        {
          "output_type": "stream",
          "text": [
            "3\n"
          ],
          "name": "stdout"
        }
      ]
    },
    {
      "cell_type": "markdown",
      "metadata": {
        "id": "_K4GHm5hcuTO",
        "colab_type": "text"
      },
      "source": [
        "После ввода числа любым из вышеописанных способов запустите блок ниже"
      ]
    },
    {
      "cell_type": "code",
      "metadata": {
        "id": "PnlN78TsIEmf",
        "colab_type": "code",
        "outputId": "9e7e1e80-0532-4586-cb2d-59134e10a2a9",
        "colab": {
          "base_uri": "https://localhost:8080/",
          "height": 118
        }
      },
      "source": [
        "import numpy as np\n",
        "\n",
        "array = np.zeros((n,n))\n",
        "for i in range (0,n):\n",
        "  for j in range (0,n):\n",
        "    array[i,j]=n\n",
        "  n=n-1\n",
        "\n",
        "array"
      ],
      "execution_count": 0,
      "outputs": [
        {
          "output_type": "execute_result",
          "data": {
            "text/plain": [
              "array([[6., 6., 6., 6., 6., 6.],\n",
              "       [5., 5., 5., 5., 5., 0.],\n",
              "       [4., 4., 4., 4., 0., 0.],\n",
              "       [3., 3., 3., 0., 0., 0.],\n",
              "       [2., 2., 0., 0., 0., 0.],\n",
              "       [1., 0., 0., 0., 0., 0.]])"
            ]
          },
          "metadata": {
            "tags": []
          },
          "execution_count": 14
        }
      ]
    },
    {
      "cell_type": "code",
      "metadata": {
        "id": "FCjzq5_45kUd",
        "colab_type": "code",
        "colab": {}
      },
      "source": [
        "df=pd.DataFrame(array)\n",
        "from pandas import ExcelWriter\n",
        "writer = ExcelWriter('output.xlsx')\n",
        "df.to_excel(writer,'data',index=False, header=False) \n",
        "writer.save() "
      ],
      "execution_count": 0,
      "outputs": []
    },
    {
      "cell_type": "markdown",
      "metadata": {
        "id": "0YwofUviPzio",
        "colab_type": "text"
      },
      "source": [
        "# ЗАДАЧА №2"
      ]
    },
    {
      "cell_type": "markdown",
      "metadata": {
        "id": "R7Apyi7QdSbE",
        "colab_type": "text"
      },
      "source": [
        "Инициируем библиотеки для рисования графиков и работы с таблицам"
      ]
    },
    {
      "cell_type": "code",
      "metadata": {
        "id": "Zzoo9G_BdvIJ",
        "colab_type": "code",
        "colab": {}
      },
      "source": [
        "import matplotlib.pyplot as plt\n",
        "%matplotlib inline\n",
        "import pandas as pd"
      ],
      "execution_count": 0,
      "outputs": []
    },
    {
      "cell_type": "markdown",
      "metadata": {
        "id": "KoV3nVUndyAa",
        "colab_type": "text"
      },
      "source": [
        "Считываем содержимое файла Excel с определенного листа\n"
      ]
    },
    {
      "cell_type": "code",
      "metadata": {
        "id": "bC0HpbNMd4Ix",
        "colab_type": "code",
        "outputId": "e7718f96-fa85-4ada-95b0-17a843f80e08",
        "colab": {
          "base_uri": "https://localhost:8080/",
          "height": 106
        }
      },
      "source": [
        "df=pd.read_excel('input.xlsx',sheet_name='2')\n",
        "df"
      ],
      "execution_count": 0,
      "outputs": [
        {
          "output_type": "execute_result",
          "data": {
            "text/html": [
              "<div>\n",
              "<style scoped>\n",
              "    .dataframe tbody tr th:only-of-type {\n",
              "        vertical-align: middle;\n",
              "    }\n",
              "\n",
              "    .dataframe tbody tr th {\n",
              "        vertical-align: top;\n",
              "    }\n",
              "\n",
              "    .dataframe thead th {\n",
              "        text-align: right;\n",
              "    }\n",
              "</style>\n",
              "<table border=\"1\" class=\"dataframe\">\n",
              "  <thead>\n",
              "    <tr style=\"text-align: right;\">\n",
              "      <th></th>\n",
              "      <th>Unnamed: 0</th>\n",
              "      <th>янв</th>\n",
              "      <th>фев</th>\n",
              "      <th>мар</th>\n",
              "      <th>апр</th>\n",
              "      <th>май</th>\n",
              "      <th>июн</th>\n",
              "      <th>июл</th>\n",
              "      <th>авг</th>\n",
              "      <th>сен</th>\n",
              "      <th>окт</th>\n",
              "      <th>ноя</th>\n",
              "      <th>дек</th>\n",
              "    </tr>\n",
              "  </thead>\n",
              "  <tbody>\n",
              "    <tr>\n",
              "      <th>0</th>\n",
              "      <td>2018</td>\n",
              "      <td>110</td>\n",
              "      <td>108</td>\n",
              "      <td>105</td>\n",
              "      <td>99</td>\n",
              "      <td>77</td>\n",
              "      <td>125</td>\n",
              "      <td>91</td>\n",
              "      <td>76</td>\n",
              "      <td>102</td>\n",
              "      <td>125</td>\n",
              "      <td>116</td>\n",
              "      <td>91</td>\n",
              "    </tr>\n",
              "    <tr>\n",
              "      <th>1</th>\n",
              "      <td>2017</td>\n",
              "      <td>112</td>\n",
              "      <td>108</td>\n",
              "      <td>90</td>\n",
              "      <td>104</td>\n",
              "      <td>82</td>\n",
              "      <td>80</td>\n",
              "      <td>76</td>\n",
              "      <td>86</td>\n",
              "      <td>117</td>\n",
              "      <td>120</td>\n",
              "      <td>121</td>\n",
              "      <td>96</td>\n",
              "    </tr>\n",
              "  </tbody>\n",
              "</table>\n",
              "</div>"
            ],
            "text/plain": [
              "   Unnamed: 0  янв  фев  мар  апр  май  июн  июл  авг  сен  окт  ноя  дек\n",
              "0        2018  110  108  105   99   77  125   91   76  102  125  116   91\n",
              "1        2017  112  108   90  104   82   80   76   86  117  120  121   96"
            ]
          },
          "metadata": {
            "tags": []
          },
          "execution_count": 4
        }
      ]
    },
    {
      "cell_type": "markdown",
      "metadata": {
        "id": "EmhWsMPceF7o",
        "colab_type": "text"
      },
      "source": [
        "Транспонируем таблицу, ставим первую строчку в качестве заголовка\n"
      ]
    },
    {
      "cell_type": "code",
      "metadata": {
        "id": "6yF6XriQPzOD",
        "colab_type": "code",
        "outputId": "734c801f-1d65-4621-88f4-73c20b0308d4",
        "colab": {
          "base_uri": "https://localhost:8080/",
          "height": 402
        }
      },
      "source": [
        "df=df.transpose()\n",
        "df.columns = df.iloc[0] #первую строчку в заголовок\n",
        "df=df.drop(df.index[0]) #удаляем первую строчку, так как уже установлен заголовок\n",
        "df"
      ],
      "execution_count": 0,
      "outputs": [
        {
          "output_type": "execute_result",
          "data": {
            "text/html": [
              "<div>\n",
              "<style scoped>\n",
              "    .dataframe tbody tr th:only-of-type {\n",
              "        vertical-align: middle;\n",
              "    }\n",
              "\n",
              "    .dataframe tbody tr th {\n",
              "        vertical-align: top;\n",
              "    }\n",
              "\n",
              "    .dataframe thead th {\n",
              "        text-align: right;\n",
              "    }\n",
              "</style>\n",
              "<table border=\"1\" class=\"dataframe\">\n",
              "  <thead>\n",
              "    <tr style=\"text-align: right;\">\n",
              "      <th>Unnamed: 0</th>\n",
              "      <th>2018</th>\n",
              "      <th>2017</th>\n",
              "    </tr>\n",
              "  </thead>\n",
              "  <tbody>\n",
              "    <tr>\n",
              "      <th>янв</th>\n",
              "      <td>110</td>\n",
              "      <td>112</td>\n",
              "    </tr>\n",
              "    <tr>\n",
              "      <th>фев</th>\n",
              "      <td>108</td>\n",
              "      <td>108</td>\n",
              "    </tr>\n",
              "    <tr>\n",
              "      <th>мар</th>\n",
              "      <td>105</td>\n",
              "      <td>90</td>\n",
              "    </tr>\n",
              "    <tr>\n",
              "      <th>апр</th>\n",
              "      <td>99</td>\n",
              "      <td>104</td>\n",
              "    </tr>\n",
              "    <tr>\n",
              "      <th>май</th>\n",
              "      <td>77</td>\n",
              "      <td>82</td>\n",
              "    </tr>\n",
              "    <tr>\n",
              "      <th>июн</th>\n",
              "      <td>125</td>\n",
              "      <td>80</td>\n",
              "    </tr>\n",
              "    <tr>\n",
              "      <th>июл</th>\n",
              "      <td>91</td>\n",
              "      <td>76</td>\n",
              "    </tr>\n",
              "    <tr>\n",
              "      <th>авг</th>\n",
              "      <td>76</td>\n",
              "      <td>86</td>\n",
              "    </tr>\n",
              "    <tr>\n",
              "      <th>сен</th>\n",
              "      <td>102</td>\n",
              "      <td>117</td>\n",
              "    </tr>\n",
              "    <tr>\n",
              "      <th>окт</th>\n",
              "      <td>125</td>\n",
              "      <td>120</td>\n",
              "    </tr>\n",
              "    <tr>\n",
              "      <th>ноя</th>\n",
              "      <td>116</td>\n",
              "      <td>121</td>\n",
              "    </tr>\n",
              "    <tr>\n",
              "      <th>дек</th>\n",
              "      <td>91</td>\n",
              "      <td>96</td>\n",
              "    </tr>\n",
              "  </tbody>\n",
              "</table>\n",
              "</div>"
            ],
            "text/plain": [
              "Unnamed: 0  2018  2017\n",
              "янв          110   112\n",
              "фев          108   108\n",
              "мар          105    90\n",
              "апр           99   104\n",
              "май           77    82\n",
              "июн          125    80\n",
              "июл           91    76\n",
              "авг           76    86\n",
              "сен          102   117\n",
              "окт          125   120\n",
              "ноя          116   121\n",
              "дек           91    96"
            ]
          },
          "metadata": {
            "tags": []
          },
          "execution_count": 5
        }
      ]
    },
    {
      "cell_type": "markdown",
      "metadata": {
        "id": "78jXCr0zeeqe",
        "colab_type": "text"
      },
      "source": [
        "Находим позицию с максимальной разницей"
      ]
    },
    {
      "cell_type": "code",
      "metadata": {
        "id": "sqW5TKgWVPYS",
        "colab_type": "code",
        "outputId": "6270c06f-920d-4907-ebaa-b61879038fb9",
        "colab": {
          "base_uri": "https://localhost:8080/",
          "height": 50
        }
      },
      "source": [
        "max_diff_pos=abs(df[2017]-df[2018]).idxmax()\n",
        "max_diff_val=abs(df[2017]-df[2018]).max()\n",
        "\n",
        "print(max_diff_pos)\n",
        "print(max_diff_val)"
      ],
      "execution_count": 0,
      "outputs": [
        {
          "output_type": "stream",
          "text": [
            "июн\n",
            "45\n"
          ],
          "name": "stdout"
        }
      ]
    },
    {
      "cell_type": "markdown",
      "metadata": {
        "id": "SIr1aDcxep_m",
        "colab_type": "text"
      },
      "source": [
        "Рисуем интерактивные графики"
      ]
    },
    {
      "cell_type": "code",
      "metadata": {
        "id": "BuL_Qx_pUWKp",
        "colab_type": "code",
        "outputId": "94df672f-ec05-405c-b517-3fe63fbb0fbb",
        "colab": {
          "base_uri": "https://localhost:8080/",
          "height": 542
        }
      },
      "source": [
        "# import graph objects as \"go\"\n",
        "import plotly.graph_objs as go\n",
        "from plotly.offline import iplot\n",
        "\n",
        "# График 2018 года\n",
        "trace1 = go.Scatter(\n",
        "                    y = df[2018],\n",
        "                    x = df.index,\n",
        "                    mode = \"lines\",\n",
        "                    name = \"2018\",\n",
        "                    marker = dict(color = 'rgba(16, 112, 2, 0.8)'),\n",
        "                    text= df.index)\n",
        "# График 2017 года\n",
        "trace2 = go.Scatter(\n",
        "                    y = df[2017],\n",
        "                    x = df.index,\n",
        "                    mode = \"lines+markers\",\n",
        "                    name = \"2017\",\n",
        "                    marker = dict(color = 'rgba(80, 26, 80, 0.8)'),\n",
        "                    text= df.index)\n",
        "\n",
        "# Линия максимальной разницы\n",
        "trace3= go.Scatter(x=[max_diff_pos,max_diff_pos],\n",
        "                   y=[min(df[2018].min(),df[2017].min()),max(df[2018].max(),df[2017].max())*1.05],\n",
        "                   mode = \"lines\",\n",
        "                   name = \"Максимальная разница\",\n",
        "                   line=dict(color='royalblue', width=4, dash='dot'))\n",
        "\n",
        "data = [trace1, trace2,trace3]\n",
        "layout = dict(title = 'Трафик по месяцам',\n",
        "              xaxis= dict(title= 'Месяц',ticklen= 5,zeroline= False)\n",
        "             )\n",
        "fig = dict(data = data, layout = layout)\n",
        "\n",
        "\n",
        "iplot(fig)"
      ],
      "execution_count": 0,
      "outputs": [
        {
          "output_type": "display_data",
          "data": {
            "text/html": [
              "<html>\n",
              "<head><meta charset=\"utf-8\" /></head>\n",
              "<body>\n",
              "    <div>\n",
              "            <script src=\"https://cdnjs.cloudflare.com/ajax/libs/mathjax/2.7.5/MathJax.js?config=TeX-AMS-MML_SVG\"></script><script type=\"text/javascript\">if (window.MathJax) {MathJax.Hub.Config({SVG: {font: \"STIX-Web\"}});}</script>\n",
              "                <script type=\"text/javascript\">window.PlotlyConfig = {MathJaxConfig: 'local'};</script>\n",
              "        <script src=\"https://cdn.plot.ly/plotly-latest.min.js\"></script>    \n",
              "            <div id=\"c50a4c03-8f6d-465f-bea0-c19776d034ec\" class=\"plotly-graph-div\" style=\"height:525px; width:100%;\"></div>\n",
              "            <script type=\"text/javascript\">\n",
              "                \n",
              "                    window.PLOTLYENV=window.PLOTLYENV || {};\n",
              "                    \n",
              "                if (document.getElementById(\"c50a4c03-8f6d-465f-bea0-c19776d034ec\")) {\n",
              "                    Plotly.newPlot(\n",
              "                        'c50a4c03-8f6d-465f-bea0-c19776d034ec',\n",
              "                        [{\"marker\": {\"color\": \"rgba(16, 112, 2, 0.8)\"}, \"mode\": \"lines\", \"name\": \"2018\", \"text\": [\"\\u044f\\u043d\\u0432\", \"\\u0444\\u0435\\u0432\", \"\\u043c\\u0430\\u0440\", \"\\u0430\\u043f\\u0440\", \"\\u043c\\u0430\\u0439\", \"\\u0438\\u044e\\u043d\", \"\\u0438\\u044e\\u043b\", \"\\u0430\\u0432\\u0433\", \"\\u0441\\u0435\\u043d\", \"\\u043e\\u043a\\u0442\", \"\\u043d\\u043e\\u044f\", \"\\u0434\\u0435\\u043a\"], \"type\": \"scatter\", \"x\": [\"\\u044f\\u043d\\u0432\", \"\\u0444\\u0435\\u0432\", \"\\u043c\\u0430\\u0440\", \"\\u0430\\u043f\\u0440\", \"\\u043c\\u0430\\u0439\", \"\\u0438\\u044e\\u043d\", \"\\u0438\\u044e\\u043b\", \"\\u0430\\u0432\\u0433\", \"\\u0441\\u0435\\u043d\", \"\\u043e\\u043a\\u0442\", \"\\u043d\\u043e\\u044f\", \"\\u0434\\u0435\\u043a\"], \"y\": [110, 108, 105, 99, 77, 125, 91, 76, 102, 125, 116, 91]}, {\"marker\": {\"color\": \"rgba(80, 26, 80, 0.8)\"}, \"mode\": \"lines+markers\", \"name\": \"2017\", \"text\": [\"\\u044f\\u043d\\u0432\", \"\\u0444\\u0435\\u0432\", \"\\u043c\\u0430\\u0440\", \"\\u0430\\u043f\\u0440\", \"\\u043c\\u0430\\u0439\", \"\\u0438\\u044e\\u043d\", \"\\u0438\\u044e\\u043b\", \"\\u0430\\u0432\\u0433\", \"\\u0441\\u0435\\u043d\", \"\\u043e\\u043a\\u0442\", \"\\u043d\\u043e\\u044f\", \"\\u0434\\u0435\\u043a\"], \"type\": \"scatter\", \"x\": [\"\\u044f\\u043d\\u0432\", \"\\u0444\\u0435\\u0432\", \"\\u043c\\u0430\\u0440\", \"\\u0430\\u043f\\u0440\", \"\\u043c\\u0430\\u0439\", \"\\u0438\\u044e\\u043d\", \"\\u0438\\u044e\\u043b\", \"\\u0430\\u0432\\u0433\", \"\\u0441\\u0435\\u043d\", \"\\u043e\\u043a\\u0442\", \"\\u043d\\u043e\\u044f\", \"\\u0434\\u0435\\u043a\"], \"y\": [112, 108, 90, 104, 82, 80, 76, 86, 117, 120, 121, 96]}, {\"line\": {\"color\": \"royalblue\", \"dash\": \"dot\", \"width\": 4}, \"mode\": \"lines\", \"name\": \"\\u041c\\u0430\\u043a\\u0441\\u0438\\u043c\\u0430\\u043b\\u044c\\u043d\\u0430\\u044f \\u0440\\u0430\\u0437\\u043d\\u0438\\u0446\\u0430\", \"type\": \"scatter\", \"x\": [\"\\u0438\\u044e\\u043d\", \"\\u0438\\u044e\\u043d\"], \"y\": [76, 131.25]}],\n",
              "                        {\"template\": {\"data\": {\"bar\": [{\"error_x\": {\"color\": \"#2a3f5f\"}, \"error_y\": {\"color\": \"#2a3f5f\"}, \"marker\": {\"line\": {\"color\": \"#E5ECF6\", \"width\": 0.5}}, \"type\": \"bar\"}], \"barpolar\": [{\"marker\": {\"line\": {\"color\": \"#E5ECF6\", \"width\": 0.5}}, \"type\": \"barpolar\"}], \"carpet\": [{\"aaxis\": {\"endlinecolor\": \"#2a3f5f\", \"gridcolor\": \"white\", \"linecolor\": \"white\", \"minorgridcolor\": \"white\", \"startlinecolor\": \"#2a3f5f\"}, \"baxis\": {\"endlinecolor\": \"#2a3f5f\", \"gridcolor\": \"white\", \"linecolor\": \"white\", \"minorgridcolor\": \"white\", \"startlinecolor\": \"#2a3f5f\"}, \"type\": \"carpet\"}], \"choropleth\": [{\"colorbar\": {\"outlinewidth\": 0, \"ticks\": \"\"}, \"type\": \"choropleth\"}], \"contour\": [{\"colorbar\": {\"outlinewidth\": 0, \"ticks\": \"\"}, \"colorscale\": [[0.0, \"#0d0887\"], [0.1111111111111111, \"#46039f\"], [0.2222222222222222, \"#7201a8\"], [0.3333333333333333, \"#9c179e\"], [0.4444444444444444, \"#bd3786\"], [0.5555555555555556, \"#d8576b\"], [0.6666666666666666, \"#ed7953\"], [0.7777777777777778, \"#fb9f3a\"], [0.8888888888888888, \"#fdca26\"], [1.0, \"#f0f921\"]], \"type\": \"contour\"}], \"contourcarpet\": [{\"colorbar\": {\"outlinewidth\": 0, \"ticks\": \"\"}, \"type\": \"contourcarpet\"}], \"heatmap\": [{\"colorbar\": {\"outlinewidth\": 0, \"ticks\": \"\"}, \"colorscale\": [[0.0, \"#0d0887\"], [0.1111111111111111, \"#46039f\"], [0.2222222222222222, \"#7201a8\"], [0.3333333333333333, \"#9c179e\"], [0.4444444444444444, \"#bd3786\"], [0.5555555555555556, \"#d8576b\"], [0.6666666666666666, \"#ed7953\"], [0.7777777777777778, \"#fb9f3a\"], [0.8888888888888888, \"#fdca26\"], [1.0, \"#f0f921\"]], \"type\": \"heatmap\"}], \"heatmapgl\": [{\"colorbar\": {\"outlinewidth\": 0, \"ticks\": \"\"}, \"colorscale\": [[0.0, \"#0d0887\"], [0.1111111111111111, \"#46039f\"], [0.2222222222222222, \"#7201a8\"], [0.3333333333333333, \"#9c179e\"], [0.4444444444444444, \"#bd3786\"], [0.5555555555555556, \"#d8576b\"], [0.6666666666666666, \"#ed7953\"], [0.7777777777777778, \"#fb9f3a\"], [0.8888888888888888, \"#fdca26\"], [1.0, \"#f0f921\"]], \"type\": \"heatmapgl\"}], \"histogram\": [{\"marker\": {\"colorbar\": {\"outlinewidth\": 0, \"ticks\": \"\"}}, \"type\": \"histogram\"}], \"histogram2d\": [{\"colorbar\": {\"outlinewidth\": 0, \"ticks\": \"\"}, \"colorscale\": [[0.0, \"#0d0887\"], [0.1111111111111111, \"#46039f\"], [0.2222222222222222, \"#7201a8\"], [0.3333333333333333, \"#9c179e\"], [0.4444444444444444, \"#bd3786\"], [0.5555555555555556, \"#d8576b\"], [0.6666666666666666, \"#ed7953\"], [0.7777777777777778, \"#fb9f3a\"], [0.8888888888888888, \"#fdca26\"], [1.0, \"#f0f921\"]], \"type\": \"histogram2d\"}], \"histogram2dcontour\": [{\"colorbar\": {\"outlinewidth\": 0, \"ticks\": \"\"}, \"colorscale\": [[0.0, \"#0d0887\"], [0.1111111111111111, \"#46039f\"], [0.2222222222222222, \"#7201a8\"], [0.3333333333333333, \"#9c179e\"], [0.4444444444444444, \"#bd3786\"], [0.5555555555555556, \"#d8576b\"], [0.6666666666666666, \"#ed7953\"], [0.7777777777777778, \"#fb9f3a\"], [0.8888888888888888, \"#fdca26\"], [1.0, \"#f0f921\"]], \"type\": \"histogram2dcontour\"}], \"mesh3d\": [{\"colorbar\": {\"outlinewidth\": 0, \"ticks\": \"\"}, \"type\": \"mesh3d\"}], \"parcoords\": [{\"line\": {\"colorbar\": {\"outlinewidth\": 0, \"ticks\": \"\"}}, \"type\": \"parcoords\"}], \"pie\": [{\"automargin\": true, \"type\": \"pie\"}], \"scatter\": [{\"marker\": {\"colorbar\": {\"outlinewidth\": 0, \"ticks\": \"\"}}, \"type\": \"scatter\"}], \"scatter3d\": [{\"line\": {\"colorbar\": {\"outlinewidth\": 0, \"ticks\": \"\"}}, \"marker\": {\"colorbar\": {\"outlinewidth\": 0, \"ticks\": \"\"}}, \"type\": \"scatter3d\"}], \"scattercarpet\": [{\"marker\": {\"colorbar\": {\"outlinewidth\": 0, \"ticks\": \"\"}}, \"type\": \"scattercarpet\"}], \"scattergeo\": [{\"marker\": {\"colorbar\": {\"outlinewidth\": 0, \"ticks\": \"\"}}, \"type\": \"scattergeo\"}], \"scattergl\": [{\"marker\": {\"colorbar\": {\"outlinewidth\": 0, \"ticks\": \"\"}}, \"type\": \"scattergl\"}], \"scattermapbox\": [{\"marker\": {\"colorbar\": {\"outlinewidth\": 0, \"ticks\": \"\"}}, \"type\": \"scattermapbox\"}], \"scatterpolar\": [{\"marker\": {\"colorbar\": {\"outlinewidth\": 0, \"ticks\": \"\"}}, \"type\": \"scatterpolar\"}], \"scatterpolargl\": [{\"marker\": {\"colorbar\": {\"outlinewidth\": 0, \"ticks\": \"\"}}, \"type\": \"scatterpolargl\"}], \"scatterternary\": [{\"marker\": {\"colorbar\": {\"outlinewidth\": 0, \"ticks\": \"\"}}, \"type\": \"scatterternary\"}], \"surface\": [{\"colorbar\": {\"outlinewidth\": 0, \"ticks\": \"\"}, \"colorscale\": [[0.0, \"#0d0887\"], [0.1111111111111111, \"#46039f\"], [0.2222222222222222, \"#7201a8\"], [0.3333333333333333, \"#9c179e\"], [0.4444444444444444, \"#bd3786\"], [0.5555555555555556, \"#d8576b\"], [0.6666666666666666, \"#ed7953\"], [0.7777777777777778, \"#fb9f3a\"], [0.8888888888888888, \"#fdca26\"], [1.0, \"#f0f921\"]], \"type\": \"surface\"}], \"table\": [{\"cells\": {\"fill\": {\"color\": \"#EBF0F8\"}, \"line\": {\"color\": \"white\"}}, \"header\": {\"fill\": {\"color\": \"#C8D4E3\"}, \"line\": {\"color\": \"white\"}}, \"type\": \"table\"}]}, \"layout\": {\"annotationdefaults\": {\"arrowcolor\": \"#2a3f5f\", \"arrowhead\": 0, \"arrowwidth\": 1}, \"coloraxis\": {\"colorbar\": {\"outlinewidth\": 0, \"ticks\": \"\"}}, \"colorscale\": {\"diverging\": [[0, \"#8e0152\"], [0.1, \"#c51b7d\"], [0.2, \"#de77ae\"], [0.3, \"#f1b6da\"], [0.4, \"#fde0ef\"], [0.5, \"#f7f7f7\"], [0.6, \"#e6f5d0\"], [0.7, \"#b8e186\"], [0.8, \"#7fbc41\"], [0.9, \"#4d9221\"], [1, \"#276419\"]], \"sequential\": [[0.0, \"#0d0887\"], [0.1111111111111111, \"#46039f\"], [0.2222222222222222, \"#7201a8\"], [0.3333333333333333, \"#9c179e\"], [0.4444444444444444, \"#bd3786\"], [0.5555555555555556, \"#d8576b\"], [0.6666666666666666, \"#ed7953\"], [0.7777777777777778, \"#fb9f3a\"], [0.8888888888888888, \"#fdca26\"], [1.0, \"#f0f921\"]], \"sequentialminus\": [[0.0, \"#0d0887\"], [0.1111111111111111, \"#46039f\"], [0.2222222222222222, \"#7201a8\"], [0.3333333333333333, \"#9c179e\"], [0.4444444444444444, \"#bd3786\"], [0.5555555555555556, \"#d8576b\"], [0.6666666666666666, \"#ed7953\"], [0.7777777777777778, \"#fb9f3a\"], [0.8888888888888888, \"#fdca26\"], [1.0, \"#f0f921\"]]}, \"colorway\": [\"#636efa\", \"#EF553B\", \"#00cc96\", \"#ab63fa\", \"#FFA15A\", \"#19d3f3\", \"#FF6692\", \"#B6E880\", \"#FF97FF\", \"#FECB52\"], \"font\": {\"color\": \"#2a3f5f\"}, \"geo\": {\"bgcolor\": \"white\", \"lakecolor\": \"white\", \"landcolor\": \"#E5ECF6\", \"showlakes\": true, \"showland\": true, \"subunitcolor\": \"white\"}, \"hoverlabel\": {\"align\": \"left\"}, \"hovermode\": \"closest\", \"mapbox\": {\"style\": \"light\"}, \"paper_bgcolor\": \"white\", \"plot_bgcolor\": \"#E5ECF6\", \"polar\": {\"angularaxis\": {\"gridcolor\": \"white\", \"linecolor\": \"white\", \"ticks\": \"\"}, \"bgcolor\": \"#E5ECF6\", \"radialaxis\": {\"gridcolor\": \"white\", \"linecolor\": \"white\", \"ticks\": \"\"}}, \"scene\": {\"xaxis\": {\"backgroundcolor\": \"#E5ECF6\", \"gridcolor\": \"white\", \"gridwidth\": 2, \"linecolor\": \"white\", \"showbackground\": true, \"ticks\": \"\", \"zerolinecolor\": \"white\"}, \"yaxis\": {\"backgroundcolor\": \"#E5ECF6\", \"gridcolor\": \"white\", \"gridwidth\": 2, \"linecolor\": \"white\", \"showbackground\": true, \"ticks\": \"\", \"zerolinecolor\": \"white\"}, \"zaxis\": {\"backgroundcolor\": \"#E5ECF6\", \"gridcolor\": \"white\", \"gridwidth\": 2, \"linecolor\": \"white\", \"showbackground\": true, \"ticks\": \"\", \"zerolinecolor\": \"white\"}}, \"shapedefaults\": {\"line\": {\"color\": \"#2a3f5f\"}}, \"ternary\": {\"aaxis\": {\"gridcolor\": \"white\", \"linecolor\": \"white\", \"ticks\": \"\"}, \"baxis\": {\"gridcolor\": \"white\", \"linecolor\": \"white\", \"ticks\": \"\"}, \"bgcolor\": \"#E5ECF6\", \"caxis\": {\"gridcolor\": \"white\", \"linecolor\": \"white\", \"ticks\": \"\"}}, \"title\": {\"x\": 0.05}, \"xaxis\": {\"automargin\": true, \"gridcolor\": \"white\", \"linecolor\": \"white\", \"ticks\": \"\", \"title\": {\"standoff\": 15}, \"zerolinecolor\": \"white\", \"zerolinewidth\": 2}, \"yaxis\": {\"automargin\": true, \"gridcolor\": \"white\", \"linecolor\": \"white\", \"ticks\": \"\", \"title\": {\"standoff\": 15}, \"zerolinecolor\": \"white\", \"zerolinewidth\": 2}}}, \"title\": {\"text\": \"\\u0422\\u0440\\u0430\\u0444\\u0438\\u043a \\u043f\\u043e \\u043c\\u0435\\u0441\\u044f\\u0446\\u0430\\u043c\"}, \"xaxis\": {\"ticklen\": 5, \"title\": {\"text\": \"\\u041c\\u0435\\u0441\\u044f\\u0446\"}, \"zeroline\": false}},\n",
              "                        {\"responsive\": true}\n",
              "                    ).then(function(){\n",
              "                            \n",
              "var gd = document.getElementById('c50a4c03-8f6d-465f-bea0-c19776d034ec');\n",
              "var x = new MutationObserver(function (mutations, observer) {{\n",
              "        var display = window.getComputedStyle(gd).display;\n",
              "        if (!display || display === 'none') {{\n",
              "            console.log([gd, 'removed!']);\n",
              "            Plotly.purge(gd);\n",
              "            observer.disconnect();\n",
              "        }}\n",
              "}});\n",
              "\n",
              "// Listen for the removal of the full notebook cells\n",
              "var notebookContainer = gd.closest('#notebook-container');\n",
              "if (notebookContainer) {{\n",
              "    x.observe(notebookContainer, {childList: true});\n",
              "}}\n",
              "\n",
              "// Listen for the clearing of the current output cell\n",
              "var outputEl = gd.closest('.output');\n",
              "if (outputEl) {{\n",
              "    x.observe(outputEl, {childList: true});\n",
              "}}\n",
              "\n",
              "                        })\n",
              "                };\n",
              "                \n",
              "            </script>\n",
              "        </div>\n",
              "</body>\n",
              "</html>"
            ]
          },
          "metadata": {
            "tags": []
          }
        }
      ]
    }
  ]
}